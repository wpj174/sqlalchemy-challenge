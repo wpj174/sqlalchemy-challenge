{
 "cells": [
  {
   "cell_type": "code",
   "execution_count": 1,
   "metadata": {},
   "outputs": [],
   "source": [
    "%matplotlib inline\n",
    "from matplotlib import style\n",
    "style.use('fivethirtyeight')\n",
    "import matplotlib.pyplot as plt"
   ]
  },
  {
   "cell_type": "code",
   "execution_count": 2,
   "metadata": {},
   "outputs": [],
   "source": [
    "import numpy as np\n",
    "import pandas as pd\n",
    "import datetime as dt\n",
    "\n",
    "from pprint import pprint"
   ]
  },
  {
   "cell_type": "markdown",
   "metadata": {},
   "source": [
    "# Reflect Tables into SQLAlchemy ORM"
   ]
  },
  {
   "cell_type": "code",
   "execution_count": 3,
   "metadata": {},
   "outputs": [],
   "source": [
    "# Python SQL toolkit and Object Relational Mapper\n",
    "import sqlalchemy\n",
    "from sqlalchemy.ext.automap import automap_base\n",
    "from sqlalchemy.orm import Session\n",
    "from sqlalchemy import create_engine, func"
   ]
  },
  {
   "cell_type": "code",
   "execution_count": 4,
   "metadata": {},
   "outputs": [],
   "source": [
    "# create engine to hawaii.sqlite\n",
    "engine = create_engine(\"sqlite:///Resources/hawaii.sqlite\")"
   ]
  },
  {
   "cell_type": "code",
   "execution_count": 5,
   "metadata": {},
   "outputs": [],
   "source": [
    "# reflect an existing database into a new model\n",
    "Base = automap_base()\n",
    "\n",
    "# reflect the tables\n",
    "Base.prepare(engine, reflect=True)\n"
   ]
  },
  {
   "cell_type": "code",
   "execution_count": 6,
   "metadata": {},
   "outputs": [
    {
     "data": {
      "text/plain": [
       "['measurement', 'station']"
      ]
     },
     "execution_count": 6,
     "metadata": {},
     "output_type": "execute_result"
    }
   ],
   "source": [
    "# View all of the classes that automap found\n",
    "Base.classes.keys()\n"
   ]
  },
  {
   "cell_type": "code",
   "execution_count": 7,
   "metadata": {},
   "outputs": [],
   "source": [
    "# Save references to each table\n",
    "Measurement = Base.classes.measurement\n",
    "Station = Base.classes.station\n"
   ]
  },
  {
   "cell_type": "code",
   "execution_count": 8,
   "metadata": {},
   "outputs": [],
   "source": [
    "# Create our session (link) from Python to the DB\n",
    "session = Session(engine)\n"
   ]
  },
  {
   "cell_type": "code",
   "execution_count": 9,
   "metadata": {},
   "outputs": [
    {
     "name": "stdout",
     "output_type": "stream",
     "text": [
      "measurement.id\n",
      "measurement.station\n",
      "measurement.date\n",
      "measurement.prcp\n",
      "measurement.tobs\n"
     ]
    }
   ],
   "source": [
    "# Get columns for Measurment table\n",
    "\n",
    "cols = Measurement.__table__.columns\n",
    "for col in cols:\n",
    "    print(col)"
   ]
  },
  {
   "cell_type": "code",
   "execution_count": 10,
   "metadata": {},
   "outputs": [
    {
     "name": "stdout",
     "output_type": "stream",
     "text": [
      "station.id\n",
      "station.station\n",
      "station.name\n",
      "station.latitude\n",
      "station.longitude\n",
      "station.elevation\n"
     ]
    }
   ],
   "source": [
    "# Get columns for Station table\n",
    "\n",
    "cols = Station.__table__.columns\n",
    "for col in cols:\n",
    "    print(col)"
   ]
  },
  {
   "cell_type": "markdown",
   "metadata": {},
   "source": [
    "# Exploratory Precipitation Analysis"
   ]
  },
  {
   "cell_type": "code",
   "execution_count": 11,
   "metadata": {},
   "outputs": [
    {
     "data": {
      "text/plain": [
       "[('2017-08-23',)]"
      ]
     },
     "execution_count": 11,
     "metadata": {},
     "output_type": "execute_result"
    }
   ],
   "source": [
    "# Find the most recent date in the data set.\n",
    "\n",
    "session.query(func.max(Measurement.date)).all()\n"
   ]
  },
  {
   "cell_type": "code",
   "execution_count": 12,
   "metadata": {},
   "outputs": [
    {
     "data": {
      "text/plain": [
       "([<matplotlib.axis.XTick at 0x1f9a7fe5d90>,\n",
       "  <matplotlib.axis.XTick at 0x1f9a7fe5d60>,\n",
       "  <matplotlib.axis.XTick at 0x1f9a86aa4f0>,\n",
       "  <matplotlib.axis.XTick at 0x1f9a8aae3a0>,\n",
       "  <matplotlib.axis.XTick at 0x1f9a8aae8b0>],\n",
       " [Text(0, 0, '2016-08-24'),\n",
       "  Text(91, 0, '2016-11-24'),\n",
       "  Text(182, 0, '2017-02-24'),\n",
       "  Text(273, 0, '2017-05-24'),\n",
       "  Text(364, 0, '2017-08-23')])"
      ]
     },
     "execution_count": 12,
     "metadata": {},
     "output_type": "execute_result"
    },
    {
     "data": {
      "image/png": "[encoded data removed]",
      "text/plain": [
       "<Figure size 432x288 with 1 Axes>"
      ]
     },
     "metadata": {},
     "output_type": "display_data"
    }
   ],
   "source": [
    "# Design a query to retrieve the last 12 months of precipitation data and plot the results. \n",
    "# Starting from the most recent data point in the database. \n",
    "latest_text = session.query(func.max(Measurement.date)).all()[0][0]\n",
    "latest_list = latest_text.split(\"-\")\n",
    "\n",
    "# Calculate the date one year from the last date in data set.\n",
    "start_date = dt.date(int(latest_list[0]), int(latest_list[1]), int(latest_list[2])) - dt.timedelta(days=365)\n",
    "\n",
    "# Perform a query to retrieve the date and precipitation scores\n",
    "last_year_query = session.query(Measurement.date, Measurement.prcp).\\\n",
    "    filter(func.strftime(\"%Y-%m-%d\", Measurement.date) > start_date).all()\n",
    "\n",
    "# Save the query results as a Pandas DataFrame and set the index to the date column\n",
    "last_year_df = pd.DataFrame(last_year_query, columns = ['Date', 'Precip'])\n",
    "\n",
    "last_year_df = last_year_df.set_index('Date')\n",
    "\n",
    "last_year_df = last_year_df.dropna()\n",
    "\n",
    "# Sort the dataframe by date\n",
    "last_year_df = last_year_df.sort_index()\n",
    "\n",
    "# Use Pandas Plotting with Matplotlib to plot the data\n",
    "plot_df = last_year_df.groupby('Date').sum()\n",
    "\n",
    "ax = plot_df.plot.bar(ylabel='Inches', rot='vertical')\n",
    "plt.xticks(np.arange(0, 365, 91), ['2016-08-24', '2016-11-24', '2017-02-24', '2017-05-24', '2017-08-23'])\n",
    "\n"
   ]
  },
  {
   "cell_type": "code",
   "execution_count": 13,
   "metadata": {},
   "outputs": [
    {
     "name": "stdout",
     "output_type": "stream",
     "text": [
      "2015\n",
      "0.1764615384615378\n",
      "0.4601741340322897\n",
      "0.0\n",
      "0.0 0.02 0.13\n",
      "6.7\n"
     ]
    },
    {
     "data": {
      "text/html": [
       "<div>\n",
       "<style scoped>\n",
       "    .dataframe tbody tr th:only-of-type {\n",
       "        vertical-align: middle;\n",
       "    }\n",
       "\n",
       "    .dataframe tbody tr th {\n",
       "        vertical-align: top;\n",
       "    }\n",
       "\n",
       "    .dataframe thead th {\n",
       "        text-align: right;\n",
       "    }\n",
       "</style>\n",
       "<table border=\"1\" class=\"dataframe\">\n",
       "  <thead>\n",
       "    <tr style=\"text-align: right;\">\n",
       "      <th></th>\n",
       "      <th>Precip</th>\n",
       "    </tr>\n",
       "    <tr>\n",
       "      <th></th>\n",
       "      <th></th>\n",
       "    </tr>\n",
       "  </thead>\n",
       "  <tbody>\n",
       "    <tr>\n",
       "      <th>count</th>\n",
       "      <td>2015.000000</td>\n",
       "    </tr>\n",
       "    <tr>\n",
       "      <th>mean</th>\n",
       "      <td>0.176462</td>\n",
       "    </tr>\n",
       "    <tr>\n",
       "      <th>std</th>\n",
       "      <td>0.460174</td>\n",
       "    </tr>\n",
       "    <tr>\n",
       "      <th>min</th>\n",
       "      <td>0.000000</td>\n",
       "    </tr>\n",
       "    <tr>\n",
       "      <th>25%</th>\n",
       "      <td>0.000000</td>\n",
       "    </tr>\n",
       "    <tr>\n",
       "      <th>50%</th>\n",
       "      <td>0.020000</td>\n",
       "    </tr>\n",
       "    <tr>\n",
       "      <th>75%</th>\n",
       "      <td>0.130000</td>\n",
       "    </tr>\n",
       "    <tr>\n",
       "      <th>max</th>\n",
       "      <td>6.700000</td>\n",
       "    </tr>\n",
       "  </tbody>\n",
       "</table>\n",
       "</div>"
      ],
      "text/plain": [
       "            Precip\n",
       "                  \n",
       "count  2015.000000\n",
       "mean      0.176462\n",
       "std       0.460174\n",
       "min       0.000000\n",
       "25%       0.000000\n",
       "50%       0.020000\n",
       "75%       0.130000\n",
       "max       6.700000"
      ]
     },
     "execution_count": 13,
     "metadata": {},
     "output_type": "execute_result"
    }
   ],
   "source": [
    "# Use Pandas to calcualte the summary statistics for the precipitation data\n",
    "count = len(last_year_df.index)\n",
    "print(count)\n",
    "\n",
    "summ_stats_df = pd.DataFrame([('count', count)], columns = ['Stat', 'Precip'])\n",
    "#summ_stats_df = summ_stats_df.set_index('Stat')\n",
    "\n",
    "mean = np.mean(last_year_df['Precip'])\n",
    "print(mean)\n",
    "\n",
    "summ_stats_df = summ_stats_df.append({'Stat': 'mean', 'Precip': mean}, ignore_index=True)\n",
    "\n",
    "std_dev = np.std(last_year_df['Precip'])\n",
    "print(std_dev)\n",
    "\n",
    "summ_stats_df = summ_stats_df.append({'Stat': 'std', 'Precip': std_dev}, ignore_index=True)\n",
    "\n",
    "min = last_year_df['Precip'].min()\n",
    "print(min)\n",
    "\n",
    "summ_stats_df = summ_stats_df.append({'Stat': 'min', 'Precip': min}, ignore_index=True)\n",
    "\n",
    "quartiles = last_year_df['Precip'].quantile([.25,.5,.75])\n",
    "lowerq = quartiles[0.25]\n",
    "midq = quartiles[0.50]\n",
    "upperq = quartiles[0.75]\n",
    "print(lowerq, midq, upperq)\n",
    "\n",
    "summ_stats_df = summ_stats_df.append({'Stat': '25%', 'Precip': lowerq}, ignore_index=True)\n",
    "summ_stats_df = summ_stats_df.append({'Stat': '50%', 'Precip': midq}, ignore_index=True)\n",
    "summ_stats_df = summ_stats_df.append({'Stat': '75%', 'Precip': upperq}, ignore_index=True)\n",
    "\n",
    "max = last_year_df['Precip'].max()\n",
    "print(max)\n",
    "\n",
    "summ_stats_df = summ_stats_df.append({'Stat': 'max', 'Precip': max}, ignore_index=True)\n",
    "\n",
    "summ_stats_df = summ_stats_df.rename({'Stat': ''}, axis=1)\n",
    "summ_stats_df = summ_stats_df.set_index('')\n",
    "\n",
    "summ_stats_df"
   ]
  },
  {
   "cell_type": "markdown",
   "metadata": {},
   "source": [
    "# Exploratory Station Analysis"
   ]
  },
  {
   "cell_type": "code",
   "execution_count": 18,
   "metadata": {},
   "outputs": [
    {
     "data": {
      "text/plain": [
       "[(9,)]"
      ]
     },
     "execution_count": 18,
     "metadata": {},
     "output_type": "execute_result"
    }
   ],
   "source": [
    "# Design a query to calculate the total number stations in the dataset\n",
    "#station_count = session.query(Station).count()\n",
    "session.query(func.count(Station.id)).limit(1).all()\n",
    "\n",
    "#print(station_count)"
   ]
  },
  {
   "cell_type": "code",
   "execution_count": 19,
   "metadata": {},
   "outputs": [
    {
     "name": "stdout",
     "output_type": "stream",
     "text": [
      "1 USC00519397 WAIKIKI 717.2, HI US\n",
      "2 USC00513117 KANEOHE 838.1, HI US\n",
      "3 USC00514830 KUALOA RANCH HEADQUARTERS 886.9, HI US\n",
      "4 USC00517948 PEARL CITY, HI US\n",
      "5 USC00518838 UPPER WAHIAWA 874.3, HI US\n",
      "6 USC00519523 WAIMANALO EXPERIMENTAL FARM, HI US\n",
      "7 USC00519281 WAIHEE 837.5, HI US\n",
      "8 USC00511918 HONOLULU OBSERVATORY 702.2, HI US\n",
      "9 USC00516128 MANOA LYON ARBO 785.2, HI US\n"
     ]
    }
   ],
   "source": [
    "stations = session.query(Station).all()\n",
    "\n",
    "for station in stations:\n",
    "    print(station.id, station.station, station.name)"
   ]
  },
  {
   "cell_type": "code",
   "execution_count": 20,
   "metadata": {},
   "outputs": [
    {
     "name": "stdout",
     "output_type": "stream",
     "text": [
      "[('USC00519281', 2772),\n",
      " ('USC00519397', 2724),\n",
      " ('USC00513117', 2709),\n",
      " ('USC00519523', 2669),\n",
      " ('USC00516128', 2612),\n",
      " ('USC00514830', 2202),\n",
      " ('USC00511918', 1979),\n",
      " ('USC00517948', 1372),\n",
      " ('USC00518838', 511)]\n"
     ]
    }
   ],
   "source": [
    "# Design a query to find the most active stations (i.e. what stations have the most rows?)\n",
    "station_activity = session.query(Measurement.station, func.count(Measurement.station).label('readings')).group_by(Measurement.station).all()\n",
    "\n",
    "# List the stations and the counts in descending order.\n",
    "station_activity.sort(reverse=True, key=lambda x:x[1])\n",
    "\n",
    "pprint(station_activity)\n"
   ]
  },
  {
   "cell_type": "code",
   "execution_count": 26,
   "metadata": {},
   "outputs": [
    {
     "data": {
      "text/plain": [
       "[(54.0, 85.0, 71.66378066378067)]"
      ]
     },
     "execution_count": 26,
     "metadata": {},
     "output_type": "execute_result"
    }
   ],
   "source": [
    "# Using the most active station id from the previous query, calculate the lowest, highest, and average temperature.\n",
    "most_active = station_activity[0][0]\n",
    "\n",
    "session.query(func.min(Measurement.tobs), func.max(Measurement.tobs), func.avg(Measurement.tobs)).\\\n",
    "    filter(Measurement.station == most_active).all()\n"
   ]
  },
  {
   "cell_type": "code",
   "execution_count": 27,
   "metadata": {},
   "outputs": [
    {
     "name": "stdout",
     "output_type": "stream",
     "text": [
      "The most active station is WAIHEE 837.5, HI US.\n",
      "\n",
      "The lowest temperature was: 54.0° Farenheit\n",
      "The highest temperature was: 85.0° Farenheit\n",
      "The average temperature was: 71.7° Farenheit\n"
     ]
    }
   ],
   "source": [
    "# A more verbose method\n",
    "most_active = station_activity[0][0]\n",
    "\n",
    "most_active_station = session.query(Station.name).filter(Station.station == most_active).all()\n",
    "print(f\"The most active station is {most_active_station[0][0]}.\")\n",
    "print()\n",
    "\n",
    "active_station_data = session.query(Measurement.date, Measurement.tobs).filter(Measurement.station == most_active).all()\n",
    "\n",
    "most_active_df = pd.DataFrame(active_station_data, columns = ['Date', 'Temp Obs'])\n",
    "\n",
    "most_active_df = most_active_df.dropna()\n",
    "\n",
    "low_temp = most_active_df['Temp Obs'].min()\n",
    "\n",
    "high_temp = most_active_df['Temp Obs'].max()\n",
    "\n",
    "mean_temp = most_active_df['Temp Obs'].mean()\n",
    "\n",
    "degree_sign = u'\\N{DEGREE SIGN}'\n",
    "\n",
    "print(f\"The lowest temperature was: {low_temp}{degree_sign} Farenheit\")\n",
    "print(f\"The highest temperature was: {high_temp}{degree_sign} Farenheit\")\n",
    "print(f\"The average temperature was: {mean_temp:.1f}{degree_sign} Farenheit\")\n"
   ]
  },
  {
   "cell_type": "code",
   "execution_count": 74,
   "metadata": {},
   "outputs": [
    {
     "data": {
      "image/png": "[encoded data removed]",
      "text/plain": [
       "<Figure size 432x288 with 1 Axes>"
      ]
     },
     "metadata": {},
     "output_type": "display_data"
    }
   ],
   "source": [
    "# Using the most active station id\n",
    "# Query the last 12 months of temperature observation data for this station and plot the results as a histogram\n",
    "active_temps = session.query(Measurement.tobs).\\\n",
    "    filter(func.strftime(\"%Y-%m-%d\", Measurement.date) > start_date,\\\n",
    "    Measurement.station == most_active).all()\n",
    "\n",
    "active_temps_list = []\n",
    "\n",
    "for item in active_temps:\n",
    "    active_temps_list.append(float(str(item[0])))\n",
    "\n",
    "plt.hist(active_temps_list, bins=10)\n",
    "plt.xlabel(\"Temperature\")\n",
    "plt.ylabel(\"Frequency\")\n",
    "plt.legend(['tobs'])\n",
    "plt.show()"
   ]
  },
  {
   "cell_type": "markdown",
   "metadata": {},
   "source": [
    "# Close session"
   ]
  },
  {
   "cell_type": "code",
   "execution_count": 75,
   "metadata": {},
   "outputs": [],
   "source": [
    "# Close Session\n",
    "session.close()"
   ]
  },
  {
   "cell_type": "code",
   "execution_count": null,
   "metadata": {},
   "outputs": [],
   "source": []
  }
 ],
 "metadata": {
  "anaconda-cloud": {},
  "kernel_info": {
   "name": "python3"
  },
  "kernelspec": {
   "display_name": "Python 3",
   "language": "python",
   "name": "python3"
  },
  "language_info": {
   "codemirror_mode": {
    "name": "ipython",
    "version": 3
   },
   "file_extension": ".py",
   "mimetype": "text/x-python",
   "name": "python",
   "nbconvert_exporter": "python",
   "pygments_lexer": "ipython3",
   "version": "3.8.8"
  },
  "nteract": {
   "version": "0.12.3"
  },
  "varInspector": {
   "cols": {
    "lenName": 16,
    "lenType": 16,
    "lenVar": 40
   },
   "kernels_config": {
    "python": {
     "delete_cmd_postfix": "",
     "delete_cmd_prefix": "del ",
     "library": "var_list.py",
     "varRefreshCmd": "print(var_dic_list())"
    },
    "r": {
     "delete_cmd_postfix": ") ",
     "delete_cmd_prefix": "rm(",
     "library": "var_list.r",
     "varRefreshCmd": "cat(var_dic_list()) "
    }
   },
   "types_to_exclude": [
    "module",
    "function",
    "builtin_function_or_method",
    "instance",
    "_Feature"
   ],
   "window_display": false
  }
 },
 "nbformat": 4,
 "nbformat_minor": 2
}
